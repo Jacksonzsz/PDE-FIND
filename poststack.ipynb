{
  "cells": [
    {
      "cell_type": "markdown",
      "metadata": {
        "id": "view-in-github",
        "colab_type": "text"
      },
      "source": [
        "<a href=\"https://colab.research.google.com/github/Jacksonzsz/PDE-FIND/blob/master/poststack.ipynb\" target=\"_parent\"><img src=\"https://colab.research.google.com/assets/colab-badge.svg\" alt=\"Open In Colab\"/></a>"
      ]
    },
    {
      "cell_type": "code",
      "execution_count": null,
      "metadata": {
        "id": "Oi_TxGrQDrXB"
      },
      "outputs": [],
      "source": [
        "%matplotlib inline"
      ]
    },
    {
      "cell_type": "markdown",
      "metadata": {
        "id": "tphnEq67DrXM"
      },
      "source": [
        "\n",
        "# 07. Post-stack inversion\n",
        "Estimating subsurface properties from band-limited seismic data represents an\n",
        "important task for geophysical subsurface characterization.\n",
        "\n",
        "In this tutorial, the :py:class:`pylops.avo.poststack.PoststackLinearModelling`\n",
        "operator is used for modelling of both 1d and 2d synthetic post-stack seismic\n",
        "data from a profile or 2d model of the subsurface acoustic impedence.\n",
        "\n",
        "\\begin{align}d(t, \\theta=0) = \\frac{1}{2} w(t) * \\frac{\\mathrm{d}\\ln \\text{AI}(t)}{\\mathrm{d}t}\\end{align}\n",
        "\n",
        "where $\\text{AI}(t)$ is the acoustic impedance profile and $w(t)$ is\n",
        "the time domain seismic wavelet. In compact form:\n",
        "\n",
        "\\begin{align}\\mathbf{d}= \\mathbf{W} \\mathbf{D} \\mathbf{ai}\\end{align}\n",
        "\n",
        "where $\\mathbf{W}$ is a convolution operator, $\\mathbf{D}$ is a\n",
        "first derivative operator, and $\\mathbf{ai}$ is the input model.\n",
        "Subsequently the acoustic impedance model is estimated via the\n",
        ":py:class:`pylops.avo.poststack.PoststackInversion` module. A two-steps\n",
        "inversion strategy is finally presented to deal with the case of noisy data.\n",
        "\n",
        "\n"
      ]
    },
    {
      "cell_type": "code",
      "execution_count": 1,
      "metadata": {
        "colab": {
          "base_uri": "https://localhost:8080/",
          "height": 392
        },
        "id": "kpE8TMtQDrXT",
        "outputId": "a896af26-5638-4356-9374-4cc5b04fb9e1"
      },
      "outputs": [
        {
          "output_type": "error",
          "ename": "ModuleNotFoundError",
          "evalue": "ignored",
          "traceback": [
            "\u001b[0;31m---------------------------------------------------------------------------\u001b[0m",
            "\u001b[0;31mModuleNotFoundError\u001b[0m                       Traceback (most recent call last)",
            "\u001b[0;32m<ipython-input-1-f5a5065fe7b5>\u001b[0m in \u001b[0;36m<module>\u001b[0;34m()\u001b[0m\n\u001b[1;32m      5\u001b[0m \u001b[0;32mfrom\u001b[0m \u001b[0mscipy\u001b[0m\u001b[0;34m.\u001b[0m\u001b[0msignal\u001b[0m \u001b[0;32mimport\u001b[0m \u001b[0mfiltfilt\u001b[0m\u001b[0;34m\u001b[0m\u001b[0;34m\u001b[0m\u001b[0m\n\u001b[1;32m      6\u001b[0m \u001b[0;34m\u001b[0m\u001b[0m\n\u001b[0;32m----> 7\u001b[0;31m \u001b[0;32mimport\u001b[0m \u001b[0mpylops\u001b[0m\u001b[0;34m\u001b[0m\u001b[0;34m\u001b[0m\u001b[0m\n\u001b[0m\u001b[1;32m      8\u001b[0m \u001b[0;32mfrom\u001b[0m \u001b[0mpylops\u001b[0m\u001b[0;34m.\u001b[0m\u001b[0mutils\u001b[0m\u001b[0;34m.\u001b[0m\u001b[0mwavelets\u001b[0m \u001b[0;32mimport\u001b[0m \u001b[0mricker\u001b[0m\u001b[0;34m\u001b[0m\u001b[0;34m\u001b[0m\u001b[0m\n\u001b[1;32m      9\u001b[0m \u001b[0;34m\u001b[0m\u001b[0m\n",
            "\u001b[0;31mModuleNotFoundError\u001b[0m: No module named 'pylops'",
            "",
            "\u001b[0;31m---------------------------------------------------------------------------\u001b[0;32m\nNOTE: If your import is failing due to a missing package, you can\nmanually install dependencies using either !pip or !apt.\n\nTo view examples of installing some common dependencies, click the\n\"Open Examples\" button below.\n\u001b[0;31m---------------------------------------------------------------------------\u001b[0m\n"
          ],
          "errorDetails": {
            "actions": [
              {
                "action": "open_url",
                "actionText": "Open Examples",
                "url": "/notebooks/snippets/importing_libraries.ipynb"
              }
            ]
          }
        }
      ],
      "source": [
        "import matplotlib.pyplot as plt\n",
        "\n",
        "# sphinx_gallery_thumbnail_number = 4\n",
        "import numpy as np\n",
        "from scipy.signal import filtfilt\n",
        "\n",
        "import pylops\n",
        "from pylops.utils.wavelets import ricker\n",
        "\n",
        "plt.close(\"all\")\n",
        "np.random.seed(10)"
      ]
    },
    {
      "cell_type": "markdown",
      "metadata": {
        "id": "ys2qE1vjDrXV"
      },
      "source": [
        "Let's start with a 1d example. A synthetic profile of acoustic impedance\n",
        "is created and data is modelled using both the dense and linear operator\n",
        "version of :py:class:`pylops.avo.poststack.PoststackLinearModelling`\n",
        "operator.\n",
        "\n"
      ]
    },
    {
      "cell_type": "code",
      "execution_count": null,
      "metadata": {
        "id": "8SOphmcIDrXW"
      },
      "outputs": [],
      "source": [
        "# model\n",
        "nt0 = 301\n",
        "dt0 = 0.004\n",
        "t0 = np.arange(nt0) * dt0\n",
        "vp = 1200 + np.arange(nt0) + filtfilt(np.ones(5) / 5.0, 1, np.random.normal(0, 80, nt0))\n",
        "rho = 1000 + vp + filtfilt(np.ones(5) / 5.0, 1, np.random.normal(0, 30, nt0))\n",
        "vp[131:] += 500\n",
        "rho[131:] += 100\n",
        "m = np.log(vp * rho)\n",
        "\n",
        "# smooth model\n",
        "nsmooth = 100\n",
        "mback = filtfilt(np.ones(nsmooth) / float(nsmooth), 1, m)\n",
        "\n",
        "# wavelet\n",
        "ntwav = 41\n",
        "wav, twav, wavc = ricker(t0[: ntwav // 2 + 1], 20)\n",
        "\n",
        "# dense operator\n",
        "PPop_dense = pylops.avo.poststack.PoststackLinearModelling(\n",
        "    wav / 2, nt0=nt0, explicit=True\n",
        ")\n",
        "\n",
        "# lop operator\n",
        "PPop = pylops.avo.poststack.PoststackLinearModelling(wav / 2, nt0=nt0)\n",
        "\n",
        "# data\n",
        "d_dense = PPop_dense * m.ravel()\n",
        "d = PPop * m\n",
        "\n",
        "# add noise\n",
        "dn_dense = d_dense + np.random.normal(0, 2e-2, d_dense.shape)"
      ]
    },
    {
      "cell_type": "markdown",
      "metadata": {
        "id": "Dsl1HnkeDrXZ"
      },
      "source": [
        "We can now estimate the acoustic profile from band-limited data using either\n",
        "the dense operator or linear operator.\n",
        "\n"
      ]
    },
    {
      "cell_type": "code",
      "execution_count": null,
      "metadata": {
        "id": "POJU3tAqDrXa"
      },
      "outputs": [],
      "source": [
        "# solve dense\n",
        "minv_dense = pylops.avo.poststack.PoststackInversion(\n",
        "    d, wav / 2, m0=mback, explicit=True, simultaneous=False\n",
        ")[0]\n",
        "\n",
        "# solve lop\n",
        "minv = pylops.avo.poststack.PoststackInversion(\n",
        "    d_dense,\n",
        "    wav / 2,\n",
        "    m0=mback,\n",
        "    explicit=False,\n",
        "    simultaneous=False,\n",
        "    **dict(iter_lim=2000)\n",
        ")[0]\n",
        "\n",
        "# solve noisy\n",
        "mn = pylops.avo.poststack.PoststackInversion(\n",
        "    dn_dense, wav / 2, m0=mback, explicit=True, epsR=1e0, **dict(damp=1e-1)\n",
        ")[0]\n",
        "\n",
        "fig, axs = plt.subplots(1, 2, figsize=(6, 7), sharey=True)\n",
        "axs[0].plot(d_dense, t0, \"k\", lw=4, label=\"Dense\")\n",
        "axs[0].plot(d, t0, \"--r\", lw=2, label=\"Lop\")\n",
        "axs[0].plot(dn_dense, t0, \"-.g\", lw=2, label=\"Noisy\")\n",
        "axs[0].set_title(\"Data\")\n",
        "axs[0].invert_yaxis()\n",
        "axs[0].axis(\"tight\")\n",
        "axs[0].legend(loc=1)\n",
        "axs[1].plot(m, t0, \"k\", lw=4, label=\"True\")\n",
        "axs[1].plot(mback, t0, \"--b\", lw=4, label=\"Back\")\n",
        "axs[1].plot(minv_dense, t0, \"--m\", lw=2, label=\"Inv Dense\")\n",
        "axs[1].plot(minv, t0, \"--r\", lw=2, label=\"Inv Lop\")\n",
        "axs[1].plot(mn, t0, \"--g\", lw=2, label=\"Inv Noisy\")\n",
        "axs[1].set_title(\"Model\")\n",
        "axs[1].axis(\"tight\")\n",
        "axs[1].legend(loc=1)"
      ]
    },
    {
      "cell_type": "markdown",
      "metadata": {
        "id": "1Uro5_PIDrXd"
      },
      "source": [
        "We see how inverting a dense matrix is in this case faster than solving\n",
        "for the linear operator (a good estimate of the model is in fact obtained\n",
        "only after 2000 iterations of lsqr). Nevertheless, having a linear operator\n",
        "is useful when we deal with larger dimensions (2d or 3d) and we want to\n",
        "couple our modelling operator with different types of spatial regularizations\n",
        "or preconditioning.\n",
        "\n",
        "Before we move onto a 2d example, let's consider the case of non-stationary\n",
        "wavelet and see how we can easily use the same routines in this case\n",
        "\n"
      ]
    },
    {
      "cell_type": "code",
      "execution_count": null,
      "metadata": {
        "id": "gN__atjrDrXf"
      },
      "outputs": [],
      "source": [
        "# wavelet\n",
        "ntwav = 41\n",
        "f0s = np.flip(np.arange(nt0) * 0.05 + 3)\n",
        "wavs = np.array([ricker(t0[:ntwav], f0)[0] for f0 in f0s])\n",
        "wavc = np.argmax(wavs[0])\n",
        "\n",
        "plt.figure(figsize=(5, 4))\n",
        "plt.imshow(wavs.T, cmap=\"gray\", extent=(t0[0], t0[-1], t0[ntwav], -t0[ntwav]))\n",
        "plt.xlabel(\"t\")\n",
        "plt.title(\"Wavelets\")\n",
        "plt.axis(\"tight\")\n",
        "\n",
        "# operator\n",
        "PPop = pylops.avo.poststack.PoststackLinearModelling(wavs / 2, nt0=nt0, explicit=True)\n",
        "\n",
        "# data\n",
        "d = PPop * m\n",
        "\n",
        "# solve\n",
        "minv = pylops.avo.poststack.PoststackInversion(\n",
        "    d, wavs / 2, m0=mback, explicit=True, **dict(cond=1e-10)\n",
        ")[0]\n",
        "\n",
        "fig, axs = plt.subplots(1, 2, figsize=(6, 7), sharey=True)\n",
        "axs[0].plot(d, t0, \"k\", lw=4)\n",
        "axs[0].set_title(\"Data\")\n",
        "axs[0].invert_yaxis()\n",
        "axs[0].axis(\"tight\")\n",
        "axs[1].plot(m, t0, \"k\", lw=4, label=\"True\")\n",
        "axs[1].plot(mback, t0, \"--b\", lw=4, label=\"Back\")\n",
        "axs[1].plot(minv, t0, \"--r\", lw=2, label=\"Inv\")\n",
        "axs[1].set_title(\"Model\")\n",
        "axs[1].axis(\"tight\")\n",
        "axs[1].legend(loc=1)"
      ]
    },
    {
      "cell_type": "markdown",
      "metadata": {
        "id": "IcjkGuXTDrXh"
      },
      "source": [
        "We move now to a 2d example. First of all the model is loaded and\n",
        "data generated.\n",
        "\n"
      ]
    },
    {
      "cell_type": "code",
      "execution_count": null,
      "metadata": {
        "id": "sjeoO1PADrXi"
      },
      "outputs": [],
      "source": [
        "# model\n",
        "inputfile = \"../testdata/avo/poststack_model.npz\"\n",
        "\n",
        "model = np.load(inputfile)\n",
        "m = np.log(model[\"model\"][:, ::3])\n",
        "x, z = model[\"x\"][::3] / 1000.0, model[\"z\"] / 1000.0\n",
        "nx, nz = len(x), len(z)\n",
        "\n",
        "# smooth model\n",
        "nsmoothz, nsmoothx = 60, 50\n",
        "mback = filtfilt(np.ones(nsmoothz) / float(nsmoothz), 1, m, axis=0)\n",
        "mback = filtfilt(np.ones(nsmoothx) / float(nsmoothx), 1, mback, axis=1)\n",
        "\n",
        "# dense operator\n",
        "PPop_dense = pylops.avo.poststack.PoststackLinearModelling(\n",
        "    wav / 2, nt0=nz, spatdims=nx, explicit=True\n",
        ")\n",
        "\n",
        "# lop operator\n",
        "PPop = pylops.avo.poststack.PoststackLinearModelling(wav / 2, nt0=nz, spatdims=nx)\n",
        "\n",
        "# data\n",
        "d = (PPop_dense * m.ravel()).reshape(nz, nx)\n",
        "n = np.random.normal(0, 1e-1, d.shape)\n",
        "dn = d + n"
      ]
    },
    {
      "cell_type": "markdown",
      "metadata": {
        "id": "HCXlRiO4DrXk"
      },
      "source": [
        "Finally we perform 4 different inversions:\n",
        "\n",
        "* trace-by-trace inversion with explicit solver and dense operator with\n",
        "  noise-free data\n",
        "\n",
        "* trace-by-trace inversion with explicit solver and dense operator\n",
        "  with noisy data\n",
        "\n",
        "* multi-trace regularized inversion with iterative solver and linear operator\n",
        "  using the result of trace-by-trace inversion as starting guess\n",
        "\n",
        "  .. math::\n",
        "       J = ||\\Delta \\mathbf{d} - \\mathbf{W} \\Delta \\mathbf{ai}||_2 +\n",
        "       \\epsilon_\\nabla ^2 ||\\nabla \\mathbf{ai}||_2\n",
        "\n",
        "  where $\\Delta \\mathbf{d}=\\mathbf{d}-\\mathbf{W}\\mathbf{AI_0}$ is\n",
        "  the residual data\n",
        "\n",
        "* multi-trace blocky inversion with iterative solver and linear operator\n",
        "\n"
      ]
    },
    {
      "cell_type": "code",
      "execution_count": null,
      "metadata": {
        "id": "rVCa-RZ7DrXl"
      },
      "outputs": [],
      "source": [
        "# dense inversion with noise-free data\n",
        "minv_dense = pylops.avo.poststack.PoststackInversion(\n",
        "    d, wav / 2, m0=mback, explicit=True, simultaneous=False\n",
        ")[0]\n",
        "\n",
        "# dense inversion with noisy data\n",
        "minv_dense_noisy = pylops.avo.poststack.PoststackInversion(\n",
        "    dn, wav / 2, m0=mback, explicit=True, epsI=4e-2, simultaneous=False\n",
        ")[0]\n",
        "\n",
        "# spatially regularized lop inversion with noisy data\n",
        "minv_lop_reg = pylops.avo.poststack.PoststackInversion(\n",
        "    dn,\n",
        "    wav / 2,\n",
        "    m0=minv_dense_noisy,\n",
        "    explicit=False,\n",
        "    epsR=5e1,\n",
        "    **dict(damp=np.sqrt(1e-4), iter_lim=80)\n",
        ")[0]\n",
        "\n",
        "# blockiness promoting inversion with noisy data\n",
        "minv_lop_blocky = pylops.avo.poststack.PoststackInversion(\n",
        "    dn,\n",
        "    wav / 2,\n",
        "    m0=mback,\n",
        "    explicit=False,\n",
        "    epsR=[0.4],\n",
        "    epsRL1=[0.1],\n",
        "    **dict(mu=0.1, niter_outer=5, niter_inner=10, iter_lim=5, damp=1e-3)\n",
        ")[0]\n",
        "\n",
        "fig, axs = plt.subplots(2, 4, figsize=(15, 9))\n",
        "axs[0][0].imshow(d, cmap=\"gray\", extent=(x[0], x[-1], z[-1], z[0]), vmin=-0.4, vmax=0.4)\n",
        "axs[0][0].set_title(\"Data\")\n",
        "axs[0][0].axis(\"tight\")\n",
        "axs[0][1].imshow(\n",
        "    dn, cmap=\"gray\", extent=(x[0], x[-1], z[-1], z[0]), vmin=-0.4, vmax=0.4\n",
        ")\n",
        "axs[0][1].set_title(\"Noisy Data\")\n",
        "axs[0][1].axis(\"tight\")\n",
        "axs[0][2].imshow(\n",
        "    m,\n",
        "    cmap=\"gist_rainbow\",\n",
        "    extent=(x[0], x[-1], z[-1], z[0]),\n",
        "    vmin=m.min(),\n",
        "    vmax=m.max(),\n",
        ")\n",
        "axs[0][2].set_title(\"Model\")\n",
        "axs[0][2].axis(\"tight\")\n",
        "axs[0][3].imshow(\n",
        "    mback,\n",
        "    cmap=\"gist_rainbow\",\n",
        "    extent=(x[0], x[-1], z[-1], z[0]),\n",
        "    vmin=m.min(),\n",
        "    vmax=m.max(),\n",
        ")\n",
        "axs[0][3].set_title(\"Smooth Model\")\n",
        "axs[0][3].axis(\"tight\")\n",
        "axs[1][0].imshow(\n",
        "    minv_dense,\n",
        "    cmap=\"gist_rainbow\",\n",
        "    extent=(x[0], x[-1], z[-1], z[0]),\n",
        "    vmin=m.min(),\n",
        "    vmax=m.max(),\n",
        ")\n",
        "axs[1][0].set_title(\"Noise-free Inversion\")\n",
        "axs[1][0].axis(\"tight\")\n",
        "axs[1][1].imshow(\n",
        "    minv_dense_noisy,\n",
        "    cmap=\"gist_rainbow\",\n",
        "    extent=(x[0], x[-1], z[-1], z[0]),\n",
        "    vmin=m.min(),\n",
        "    vmax=m.max(),\n",
        ")\n",
        "axs[1][1].set_title(\"Trace-by-trace Noisy Inversion\")\n",
        "axs[1][1].axis(\"tight\")\n",
        "axs[1][2].imshow(\n",
        "    minv_lop_reg,\n",
        "    cmap=\"gist_rainbow\",\n",
        "    extent=(x[0], x[-1], z[-1], z[0]),\n",
        "    vmin=m.min(),\n",
        "    vmax=m.max(),\n",
        ")\n",
        "axs[1][2].set_title(\"Regularized Noisy Inversion - lop \")\n",
        "axs[1][2].axis(\"tight\")\n",
        "axs[1][3].imshow(\n",
        "    minv_lop_blocky,\n",
        "    cmap=\"gist_rainbow\",\n",
        "    extent=(x[0], x[-1], z[-1], z[0]),\n",
        "    vmin=m.min(),\n",
        "    vmax=m.max(),\n",
        ")\n",
        "axs[1][3].set_title(\"Blocky Noisy Inversion - lop \")\n",
        "axs[1][3].axis(\"tight\")\n",
        "\n",
        "fig, ax = plt.subplots(1, 1, figsize=(3, 7))\n",
        "ax.plot(m[:, nx // 2], z, \"k\", lw=4, label=\"True\")\n",
        "ax.plot(mback[:, nx // 2], z, \"--r\", lw=4, label=\"Back\")\n",
        "ax.plot(minv_dense[:, nx // 2], z, \"--b\", lw=2, label=\"Inv Dense\")\n",
        "ax.plot(minv_dense_noisy[:, nx // 2], z, \"--m\", lw=2, label=\"Inv Dense noisy\")\n",
        "ax.plot(minv_lop_reg[:, nx // 2], z, \"--g\", lw=2, label=\"Inv Lop regularized\")\n",
        "ax.plot(minv_lop_blocky[:, nx // 2], z, \"--y\", lw=2, label=\"Inv Lop blocky\")\n",
        "ax.set_title(\"Model\")\n",
        "ax.invert_yaxis()\n",
        "ax.axis(\"tight\")\n",
        "ax.legend()\n",
        "plt.tight_layout()"
      ]
    },
    {
      "cell_type": "markdown",
      "metadata": {
        "id": "atktfrUKDrXm"
      },
      "source": [
        "That's almost it. If you wonder how this can be applied to real data,\n",
        "head over to the following `notebook\n",
        "<https://github.com/equinor/segyio-notebooks/blob/master/notebooks/pylops/01_seismic_inversion.ipynb>`_\n",
        "where the open-source `segyio <https://github.com/equinor/segyio>`_ library\n",
        "is used alongside pylops to create an end-to-end open-source seismic\n",
        "inversion workflow with SEG-Y input data.\n",
        "\n"
      ]
    }
  ],
  "metadata": {
    "kernelspec": {
      "display_name": "Python 3",
      "language": "python",
      "name": "python3"
    },
    "language_info": {
      "codemirror_mode": {
        "name": "ipython",
        "version": 3
      },
      "file_extension": ".py",
      "mimetype": "text/x-python",
      "name": "python",
      "nbconvert_exporter": "python",
      "pygments_lexer": "ipython3",
      "version": "3.6.12"
    },
    "colab": {
      "name": "poststack.ipynb",
      "provenance": [],
      "include_colab_link": true
    }
  },
  "nbformat": 4,
  "nbformat_minor": 0
}